{
 "cells": [
  {
   "cell_type": "markdown",
   "metadata": {},
   "source": [
    "1、野外正在进行9（n=9）口石油勘探井的发掘工作，每一口井能够开发出油的概率是0.1（p=0.1）。请问，最终所有的勘探井都勘探失败的概率？"
   ]
  },
  {
   "cell_type": "code",
   "execution_count": 37,
   "metadata": {},
   "outputs": [],
   "source": [
    "import numpy as np\n",
    "import matplotlib.pyplot as plt\n",
    "from scipy import stats"
   ]
  },
  {
   "cell_type": "code",
   "execution_count": 54,
   "metadata": {},
   "outputs": [],
   "source": [
    "np.random.seed(20201123)\n",
    "n = 9# 做某件事情的次数\n",
    "p = 0.1# 做某件事情成功的概率\n",
    "size = 200000\n",
    "x = np.random.binomial(n, p,size)"
   ]
  },
  {
   "cell_type": "code",
   "execution_count": 55,
   "metadata": {},
   "outputs": [
    {
     "name": "stdout",
     "output_type": "stream",
     "text": [
      "0.3869\n"
     ]
    }
   ],
   "source": [
    "print(np.sum(x == 0) / size)"
   ]
  },
  {
   "cell_type": "code",
   "execution_count": 56,
   "metadata": {},
   "outputs": [
    {
     "data": {
      "image/png": "[encoded data removed]",
      "text/plain": [
       "<matplotlib.figure.Figure at 0x19332e91240>"
      ]
     },
     "metadata": {},
     "output_type": "display_data"
    }
   ],
   "source": [
    "plt.hist(x,bins=15)\n",
    "plt.xlabel('随机变量：成功次数')\n",
    "plt.ylabel('样本中出现的次数')\n",
    "plt.show()"
   ]
  },
  {
   "cell_type": "code",
   "execution_count": 61,
   "metadata": {},
   "outputs": [
    {
     "name": "stdout",
     "output_type": "stream",
     "text": [
      "[0.387 0.387 0.172 0.045 0.007 0.001 0.    0.    0.    0.    0.   ]\n"
     ]
    }
   ],
   "source": [
    "s = stats.binom.pmf(range(11), n, p)#二项分布，统计中离散型概率事件的概率质量函数\n",
    "print(np.around(s, 3))"
   ]
  },
  {
   "cell_type": "markdown",
   "metadata": {},
   "source": [
    "模拟投硬币，投2次，请问两次都为正面的概率？"
   ]
  },
  {
   "cell_type": "code",
   "execution_count": 62,
   "metadata": {},
   "outputs": [],
   "source": [
    "import numpy as np\n",
    "import matplotlib.pyplot as plt\n",
    "from scipy import stats"
   ]
  },
  {
   "cell_type": "code",
   "execution_count": 63,
   "metadata": {},
   "outputs": [],
   "source": [
    "np.random.seed(20201124)\n",
    "n=2\n",
    "p=0.5\n",
    "size=50000\n",
    "x=np.random.binomial(n,p,size)"
   ]
  },
  {
   "cell_type": "code",
   "execution_count": 67,
   "metadata": {},
   "outputs": [
    {
     "data": {
      "text/plain": [
       "(0.25062, 0.50252, 0.24686)"
      ]
     },
     "execution_count": 67,
     "metadata": {},
     "output_type": "execute_result"
    }
   ],
   "source": [
    "np.sum(x==0)/size,np.sum(x==1)/size,np.sum(x==2)/size"
   ]
  },
  {
   "cell_type": "code",
   "execution_count": 68,
   "metadata": {},
   "outputs": [],
   "source": [
    "y = stats.binom.rvs(n, p, size=size)"
   ]
  },
  {
   "cell_type": "code",
   "execution_count": 72,
   "metadata": {},
   "outputs": [
    {
     "data": {
      "text/plain": [
       "(0.2509, 0.49786, 0.25124)"
      ]
     },
     "execution_count": 72,
     "metadata": {},
     "output_type": "execute_result"
    }
   ],
   "source": [
    "np.sum(y==0)/size,np.sum(y==1)/size,np.sum(y==2)/size"
   ]
  },
  {
   "cell_type": "code",
   "execution_count": 71,
   "metadata": {},
   "outputs": [
    {
     "data": {
      "image/png": "[encoded data removed]",
      "text/plain": [
       "<matplotlib.figure.Figure at 0x193348466a0>"
      ]
     },
     "metadata": {},
     "output_type": "display_data"
    }
   ],
   "source": [
    "plt.hist(x)\n",
    "plt.xlabel('随机变量：硬币为正面次数')\n",
    "plt.ylabel('50000个样本中出现的次数')\n",
    "plt.show()"
   ]
  },
  {
   "cell_type": "code",
   "execution_count": 75,
   "metadata": {},
   "outputs": [
    {
     "name": "stdout",
     "output_type": "stream",
     "text": [
      "[0.25 0.5  0.25]\n"
     ]
    }
   ],
   "source": [
    "s = stats.binom.pmf(range(n + 1), n, p)\n",
    "print(np.around(s, 3))"
   ]
  },
  {
   "cell_type": "markdown",
   "metadata": {},
   "source": [
    "#泊松分布 poisson.pmf(k) = exp(-lam) lam*k / k! 主要用于估计某个时间段某事件发生的概率。"
   ]
  },
  {
   "cell_type": "markdown",
   "metadata": {},
   "source": [
    "假定某航空公司预定票处平均每小时接到42次订票电话，那么10分钟内恰好接到6次电话的概率是多少？"
   ]
  },
  {
   "cell_type": "code",
   "execution_count": 76,
   "metadata": {},
   "outputs": [],
   "source": [
    "import numpy as np\n",
    "from scipy import stats\n",
    "import matplotlib.pyplot as plt"
   ]
  },
  {
   "cell_type": "code",
   "execution_count": 82,
   "metadata": {},
   "outputs": [],
   "source": [
    "np.random.seed(20201124)\n",
    "lam=42/6\n",
    "size=100000\n",
    "x=np.random.poisson(lam,size)"
   ]
  },
  {
   "cell_type": "code",
   "execution_count": 83,
   "metadata": {},
   "outputs": [
    {
     "name": "stdout",
     "output_type": "stream",
     "text": [
      "0.14853\n"
     ]
    }
   ],
   "source": [
    "print(np.sum(x == 6) / size)"
   ]
  },
  {
   "cell_type": "code",
   "execution_count": 84,
   "metadata": {},
   "outputs": [
    {
     "data": {
      "image/png": "[encoded data removed]",
      "text/plain": [
       "<matplotlib.figure.Figure at 0x19334bef550>"
      ]
     },
     "metadata": {},
     "output_type": "display_data"
    }
   ],
   "source": [
    "plt.hist(x)\n",
    "plt.xlabel('随机变量：每十分钟接到订票电话的次数')\n",
    "plt.ylabel('50000个样本中出现的次数')\n",
    "plt.show()"
   ]
  },
  {
   "cell_type": "code",
   "execution_count": 85,
   "metadata": {},
   "outputs": [
    {
     "name": "stdout",
     "output_type": "stream",
     "text": [
      "0.14900277967433773\n"
     ]
    }
   ],
   "source": [
    "x = stats.poisson.pmf(6, lam)\n",
    "print(x)"
   ]
  },
  {
   "cell_type": "markdown",
   "metadata": {},
   "source": [
    "#超几何分布 numpy.random.hypergeometric(ngood, nbad, nsample, size=None) 各次实验不是独立的，各次实验成功的概率也不等.\n",
    "表示对一个超几何分布进行采样，size表示采样的次数，ngood表示总体中具有成功标志的元素个数，nbad表示总体中不具有成功标志的元素个数，ngood+nbad表示总体样本容量，nsample表示抽取元素的次数（小于或等于总体样本容量），函数的返回值表示抽取nsample个元素中具有成功标识的元素个数。"
   ]
  },
  {
   "cell_type": "markdown",
   "metadata": {},
   "source": [
    "一共20只动物里有7只是狗，抽取12只有3只狗的概率（无放回抽样）。"
   ]
  },
  {
   "cell_type": "code",
   "execution_count": 86,
   "metadata": {},
   "outputs": [],
   "source": [
    "import numpy as np\n",
    "from scipy import stats\n",
    "import matplotlib.pyplot as plt"
   ]
  },
  {
   "cell_type": "code",
   "execution_count": 88,
   "metadata": {},
   "outputs": [
    {
     "name": "stdout",
     "output_type": "stream",
     "text": [
      "0.19956\n"
     ]
    }
   ],
   "source": [
    "np.random.seed(20201124)\n",
    "size=50000\n",
    "x=np.random.hypergeometric(ngood=7,nbad=13,nsample=12,size=size)\n",
    "print(np.sum(x==3)/size)"
   ]
  },
  {
   "cell_type": "code",
   "execution_count": 91,
   "metadata": {},
   "outputs": [
    {
     "data": {
      "image/png": "[encoded data removed]",
      "text/plain": [
       "<matplotlib.figure.Figure at 0x19332e9b208>"
      ]
     },
     "metadata": {},
     "output_type": "display_data"
    }
   ],
   "source": [
    "plt.hist(x, bins=15)\n",
    "plt.xlabel('狗的数量')\n",
    "plt.ylabel('50000个样本中出现的次数')\n",
    "plt.title('超几何分布',fontsize=20)\n",
    "plt.show()"
   ]
  },
  {
   "cell_type": "code",
   "execution_count": 93,
   "metadata": {},
   "outputs": [
    {
     "name": "stdout",
     "output_type": "stream",
     "text": [
      "0.199\n"
     ]
    }
   ],
   "source": [
    "s = stats.hypergeom.pmf(k=3, M=20, n=7, N=12)\n",
    "print(np.round(s, 3))"
   ]
  },
  {
   "cell_type": "markdown",
   "metadata": {},
   "source": [
    "#连续随机变量\n",
    "#均匀分布 numpy.random.uniform(low=0.0, high=1.0, size=None)"
   ]
  },
  {
   "cell_type": "markdown",
   "metadata": {},
   "source": [
    "在low到high范围内，创建大小为size的均匀分布的随机数。"
   ]
  },
  {
   "cell_type": "code",
   "execution_count": 94,
   "metadata": {},
   "outputs": [],
   "source": [
    "import numpy as np\n",
    "from scipy import stats\n",
    "import matplotlib.pyplot as plt"
   ]
  },
  {
   "cell_type": "code",
   "execution_count": 95,
   "metadata": {},
   "outputs": [],
   "source": [
    "np.random.seed(20201124)\n",
    "low=0\n",
    "high=50\n",
    "size=5000\n",
    "x=np.random.uniform(low,high,size)"
   ]
  },
  {
   "cell_type": "code",
   "execution_count": 103,
   "metadata": {},
   "outputs": [
    {
     "data": {
      "text/plain": [
       "0.389"
      ]
     },
     "execution_count": 103,
     "metadata": {},
     "output_type": "execute_result"
    }
   ],
   "source": [
    "y = (np.sum(x < 30) - np.sum(x < 10)) / size\n",
    "y"
   ]
  },
  {
   "cell_type": "code",
   "execution_count": 102,
   "metadata": {},
   "outputs": [
    {
     "data": {
      "image/png": "[encoded data removed]",
      "text/plain": [
       "<matplotlib.figure.Figure at 0x19335157da0>"
      ]
     },
     "metadata": {},
     "output_type": "display_data"
    },
    {
     "name": "stdout",
     "output_type": "stream",
     "text": [
      "0.39999999999999997\n"
     ]
    }
   ],
   "source": [
    "plt.hist(x, bins=100)\n",
    "plt.show()\n",
    "a = stats.uniform.cdf(10, 0, 50)\n",
    "b = stats.uniform.cdf(30, 0, 50)\n",
    "print(b - a)"
   ]
  },
  {
   "cell_type": "markdown",
   "metadata": {},
   "source": [
    "#根据指定大小产生[0,1)之间均匀分布的随机数。"
   ]
  },
  {
   "cell_type": "code",
   "execution_count": 106,
   "metadata": {},
   "outputs": [],
   "source": [
    "import numpy as np\n",
    "from scipy import stats\n",
    "import matplotlib.pyplot as plt"
   ]
  },
  {
   "cell_type": "code",
   "execution_count": 107,
   "metadata": {},
   "outputs": [
    {
     "name": "stdout",
     "output_type": "stream",
     "text": [
      "0.16595762053434393\n",
      "[0.18713139 0.16141027 0.08701148 0.89495402 0.44014387]\n",
      "[0.45409661 0.15475296 0.70117664 0.19671135 0.62914882]\n",
      "[[0.60799848 0.69312633 0.07419549]\n",
      " [0.46756484 0.94894489 0.51506329]\n",
      " [0.03977621 0.00791317 0.07609488]\n",
      " [0.85876891 0.11780227 0.30647184]]\n"
     ]
    }
   ],
   "source": [
    "np.random.seed(20201124)\n",
    "print(np.random.uniform())  # 0.7594819171852776\n",
    "print(np.random.uniform(size=5))\n",
    "print(np.random.rand(5))\n",
    "print(np.random.rand(4, 3))"
   ]
  },
  {
   "cell_type": "markdown",
   "metadata": {},
   "source": [
    "若high不为None时，取[low,high)之间随机整数，否则取值[0,low)之间随机整数。"
   ]
  },
  {
   "cell_type": "code",
   "execution_count": 108,
   "metadata": {},
   "outputs": [
    {
     "name": "stdout",
     "output_type": "stream",
     "text": [
      "[0 1 1 0 0 0 0 0 1 1]\n",
      "[[3 0 3 2]\n",
      " [1 4 2 2]]\n",
      "[[4 6 7 4]\n",
      " [4 6 8 7]\n",
      " [2 1 5 7]]\n"
     ]
    }
   ],
   "source": [
    "import numpy as np\n",
    "np.random.seed(20201124)\n",
    "x = np.random.randint(2, size=10)\n",
    "print(x)\n",
    "y = np.random.randint(5, size=(2, 4))\n",
    "print(y)\n",
    "z = np.random.randint(1, 10, [3, 4])\n",
    "print(z)"
   ]
  },
  {
   "cell_type": "markdown",
   "metadata": {},
   "source": [
    "#正态分布 numpy.random.randn(d0, d1, ..., dn) ,\n",
    "numpy.random.normal(loc=0.0, scale=1.0, size=None) \n",
    "normal()为创建均值为 loc（mu），标准差为 scale（sigma），大小为 size 的数组"
   ]
  },
  {
   "cell_type": "markdown",
   "metadata": {},
   "source": [
    "#根据指定大小产生满足标准正态分布的数组（均值为0，标准差为1）。"
   ]
  },
  {
   "cell_type": "code",
   "execution_count": 109,
   "metadata": {},
   "outputs": [],
   "source": [
    "import numpy as np\n",
    "import matplotlib.pyplot as plt\n",
    "from scipy import stats\n",
    "np.random.seed(20201124)\n",
    "size = 50000\n",
    "x = np.random.randn(size)\n",
    "y1 = (np.sum(x < 1) - np.sum(x < -1)) / size\n",
    "y2 = (np.sum(x < 2) - np.sum(x < -2)) / size\n",
    "y3 = (np.sum(x < 3) - np.sum(x < -3)) / size"
   ]
  },
  {
   "cell_type": "code",
   "execution_count": 110,
   "metadata": {},
   "outputs": [
    {
     "data": {
      "text/plain": [
       "(0.68092, 0.9557, 0.99776)"
      ]
     },
     "execution_count": 110,
     "metadata": {},
     "output_type": "execute_result"
    }
   ],
   "source": [
    "y1,y2,y3"
   ]
  },
  {
   "cell_type": "code",
   "execution_count": 111,
   "metadata": {},
   "outputs": [
    {
     "data": {
      "image/png": "[encoded data removed]",
      "text/plain": [
       "<matplotlib.figure.Figure at 0x1933530e908>"
      ]
     },
     "metadata": {},
     "output_type": "display_data"
    }
   ],
   "source": [
    "plt.hist(x, bins=20)\n",
    "plt.show()\n",
    "y1 = stats.norm.cdf(1) - stats.norm.cdf(-1)\n",
    "y2 = stats.norm.cdf(2) - stats.norm.cdf(-2)\n",
    "y3 = stats.norm.cdf(3) - stats.norm.cdf(-3)"
   ]
  },
  {
   "cell_type": "code",
   "execution_count": 112,
   "metadata": {},
   "outputs": [
    {
     "data": {
      "text/plain": [
       "(0.6826894921370859, 0.9544997361036416, 0.9973002039367398)"
      ]
     },
     "execution_count": 112,
     "metadata": {},
     "output_type": "execute_result"
    }
   ],
   "source": [
    "y1,y2,y3"
   ]
  },
  {
   "cell_type": "code",
   "execution_count": 113,
   "metadata": {},
   "outputs": [],
   "source": [
    "import numpy as np\n",
    "import matplotlib.pyplot as plt\n",
    "np.random.seed(20201124)\n",
    "x = 0.5 * np.random.randn(2, 4) + 5"
   ]
  },
  {
   "cell_type": "code",
   "execution_count": 114,
   "metadata": {},
   "outputs": [
    {
     "data": {
      "text/plain": [
       "array([[4.79670884, 4.78295086, 4.92900556, 5.46844893],\n",
       "       [4.40392523, 4.92074704, 4.53036121, 5.31151958]])"
      ]
     },
     "execution_count": 114,
     "metadata": {},
     "output_type": "execute_result"
    }
   ],
   "source": [
    "x"
   ]
  },
  {
   "cell_type": "code",
   "execution_count": 115,
   "metadata": {},
   "outputs": [
    {
     "name": "stdout",
     "output_type": "stream",
     "text": [
      "[[4.79670884 4.78295086 4.92900556 5.46844893]\n",
      " [4.40392523 4.92074704 4.53036121 5.31151958]]\n",
      "4.999355620571171\n",
      "0.49927448795528623\n"
     ]
    }
   ],
   "source": [
    "np.random.seed(20201124)\n",
    "mu = 5#平均值\n",
    "sigma = 0.5#标准差\n",
    "x = np.random.normal(mu, sigma, (2, 4))\n",
    "print(x)\n",
    "size = 50000\n",
    "x = np.random.normal(mu, sigma, size)\n",
    "print(np.mean(x)) \n",
    "print(np.std(x, ddof=1)) #样本标准差"
   ]
  },
  {
   "cell_type": "code",
   "execution_count": 116,
   "metadata": {},
   "outputs": [
    {
     "data": {
      "image/png": "[encoded data removed]",
      "text/plain": [
       "<matplotlib.figure.Figure at 0x193352a4908>"
      ]
     },
     "metadata": {},
     "output_type": "display_data"
    }
   ],
   "source": [
    "plt.hist(x, bins=20)\n",
    "plt.show()"
   ]
  },
  {
   "cell_type": "markdown",
   "metadata": {},
   "source": [
    "#指数分布 numpy.random.exponential(scale=1.0, size=None) "
   ]
  },
  {
   "cell_type": "markdown",
   "metadata": {},
   "source": [
    "scale = 1/lambda"
   ]
  },
  {
   "cell_type": "code",
   "execution_count": 117,
   "metadata": {},
   "outputs": [
    {
     "data": {
      "text/plain": [
       "(0.63272, 0.86676, 0.95212)"
      ]
     },
     "execution_count": 117,
     "metadata": {},
     "output_type": "execute_result"
    }
   ],
   "source": [
    "import numpy as np\n",
    "import matplotlib.pyplot as plt\n",
    "from scipy import stats\n",
    "np.random.seed(20201124)\n",
    "lam = 7\n",
    "size = 50000\n",
    "x = np.random.exponential(1 / lam, size)\n",
    "y1 = (np.sum(x < 1 / 7)) / size\n",
    "y2 = (np.sum(x < 2 / 7)) / size\n",
    "y3 = (np.sum(x < 3 / 7)) / size\n",
    "y1,y2,y3"
   ]
  },
  {
   "cell_type": "code",
   "execution_count": 118,
   "metadata": {},
   "outputs": [
    {
     "data": {
      "image/png": "[encoded data removed]",
      "text/plain": [
       "<matplotlib.figure.Figure at 0x19335415278>"
      ]
     },
     "metadata": {},
     "output_type": "display_data"
    },
    {
     "data": {
      "text/plain": [
       "(0.6321205588285577, 0.8646647167633873, 0.950212931632136)"
      ]
     },
     "execution_count": 118,
     "metadata": {},
     "output_type": "execute_result"
    }
   ],
   "source": [
    "plt.hist(x, bins=20)\n",
    "plt.show()\n",
    "y1 = stats.expon.cdf(1 / 7, scale=1 / lam)\n",
    "y2 = stats.expon.cdf(2 / 7, scale=1 / lam)\n",
    "y3 = stats.expon.cdf(3 / 7, scale=1 / lam)\n",
    "y1,y2,y3"
   ]
  },
  {
   "cell_type": "markdown",
   "metadata": {},
   "source": [
    "#随机从序列中获取元素 numpy.random.choice(a, size=None, replace=True, p=None)\n",
    "从序列中获取元素，若a为整数，元素取值从np.range(a)中随机获取；若a为数组，取值从a数组元素中随机获取。该函数还可以控制生成数组中的元素是否重复replace，以及选取元素的概率p。"
   ]
  },
  {
   "cell_type": "code",
   "execution_count": 119,
   "metadata": {},
   "outputs": [
    {
     "name": "stdout",
     "output_type": "stream",
     "text": [
      "[7 6 2]\n",
      "[3 3 3]\n",
      "[3 2 0]\n",
      "['piglet' 'pooh' 'Christopher' 'pooh' 'piglet']\n",
      "[7 6 2]\n"
     ]
    }
   ],
   "source": [
    "import numpy as np\n",
    "np.random.seed(20201124)\n",
    "x = np.random.choice(10, 3)\n",
    "print(x)  \n",
    "x = np.random.choice(10, 3, p=[0.05, 0, 0.05, 0.9, 0, 0, 0, 0, 0, 0])\n",
    "print(x)\n",
    "x = np.random.choice(10, 3, replace=False, p=[0.05, 0, 0.05, 0.9, 0, 0, 0, 0, 0, 0])\n",
    "print(x)  \n",
    "aa_milne_arr = ['pooh', 'rabbit', 'piglet', 'Christopher']\n",
    "x = np.random.choice(aa_milne_arr, 5, p=[0.5, 0.1, 0.1, 0.3])\n",
    "print(x) \n",
    "np.random.seed(20201124)\n",
    "x = np.random.randint(0, 10, 3)\n",
    "print(x)"
   ]
  },
  {
   "cell_type": "markdown",
   "metadata": {},
   "source": [
    "#numpy.random.shuffle(x)\n",
    "#对x进行重排序，如果x为多维数组，只沿第 0 轴洗牌，改变原来的数组，输出为None。"
   ]
  },
  {
   "cell_type": "markdown",
   "metadata": {},
   "source": [
    "洗牌，改变自身内容，打乱顺序。"
   ]
  },
  {
   "cell_type": "code",
   "execution_count": 120,
   "metadata": {},
   "outputs": [
    {
     "name": "stdout",
     "output_type": "stream",
     "text": [
      "[0 5 3 1 9 4 8 2 6 7]\n",
      "None\n",
      "[[ 0  1  2  3]\n",
      " [ 4  5  6  7]\n",
      " [ 8  9 10 11]\n",
      " [12 13 14 15]\n",
      " [16 17 18 19]]\n",
      "[[16 17 18 19]\n",
      " [ 8  9 10 11]\n",
      " [ 0  1  2  3]\n",
      " [12 13 14 15]\n",
      " [ 4  5  6  7]]\n"
     ]
    }
   ],
   "source": [
    "import numpy as np\n",
    "np.random.seed(20201124)\n",
    "x = np.arange(10)\n",
    "np.random.shuffle(x)\n",
    "print(x)\n",
    "print(np.random.shuffle([1, 4, 9, 12, 15]))\n",
    "x = np.arange(20).reshape((5, 4))\n",
    "print(x)\n",
    "np.random.shuffle(x)\n",
    "print(x)\n"
   ]
  },
  {
   "cell_type": "markdown",
   "metadata": {},
   "source": [
    "permutation()函数的作用与shuffle()函数相同，可以打乱第0轴的数据，但是它不会改变原来的数组。"
   ]
  },
  {
   "cell_type": "code",
   "execution_count": 122,
   "metadata": {},
   "outputs": [
    {
     "name": "stdout",
     "output_type": "stream",
     "text": [
      "[0 5 3 1 9 4 8 2 6 7]\n",
      "[15  4 12  9  1]\n",
      "[[ 0  1  2  3]\n",
      " [ 4  5  6  7]\n",
      " [ 8  9 10 11]\n",
      " [12 13 14 15]\n",
      " [16 17 18 19]]\n",
      "[[16 17 18 19]\n",
      " [ 8  9 10 11]\n",
      " [ 0  1  2  3]\n",
      " [12 13 14 15]\n",
      " [ 4  5  6  7]]\n",
      "[[ 0  1  2  3]\n",
      " [ 4  5  6  7]\n",
      " [ 8  9 10 11]\n",
      " [12 13 14 15]\n",
      " [16 17 18 19]]\n"
     ]
    }
   ],
   "source": [
    "import numpy as np\n",
    "np.random.seed(20201124)\n",
    "x = np.arange(10)\n",
    "y = np.random.permutation(x)\n",
    "print(y)\n",
    "print(np.random.permutation([1, 4, 9, 12, 15]))\n",
    "x = np.arange(20).reshape((5, 4))\n",
    "print(x)\n",
    "y = np.random.permutation(x)\n",
    "print(y)"
   ]
  },
  {
   "cell_type": "markdown",
   "metadata": {},
   "source": [
    "创建一个形为5×3的二维数组，以包含5到10之间的随机数。\n",
    "【知识点：随机抽样】\n",
    "如何创建随机二维数组？"
   ]
  },
  {
   "cell_type": "code",
   "execution_count": 126,
   "metadata": {},
   "outputs": [
    {
     "data": {
      "text/plain": [
       "array([[ 7,  8,  7],\n",
       "       [ 9,  7, 10],\n",
       "       [ 6,  8,  5],\n",
       "       [ 8,  7, 10],\n",
       "       [ 6,  9,  7]])"
      ]
     },
     "execution_count": 126,
     "metadata": {},
     "output_type": "execute_result"
    }
   ],
   "source": [
    "import numpy as np\n",
    "np.random.seed(20201124)\n",
    "x= np.random.randint(5,11, size=(5, 3))\n",
    "x"
   ]
  },
  {
   "cell_type": "markdown",
   "metadata": {},
   "source": [
    "创建分别具有5000个数据的训练集（xi，y）和测试集（xi，y），其中xi在间隔（-10,10）上均匀随机分布。\n",
    "为了使回归问题“真实”，大的均匀噪声分布在[-0.2,0.2]已添加到所有训练样本中，同时测试数据保持无噪声。"
   ]
  },
  {
   "cell_type": "code",
   "execution_count": 127,
   "metadata": {},
   "outputs": [],
   "source": [
    "import numpy as np\n",
    "import matplotlib.pyplot as plt\n",
    "from scipy import stats"
   ]
  },
  {
   "cell_type": "code",
   "execution_count": 142,
   "metadata": {},
   "outputs": [
    {
     "data": {
      "image/png": "[encoded data removed]",
      "text/plain": [
       "<matplotlib.figure.Figure at 0x19336729390>"
      ]
     },
     "metadata": {},
     "output_type": "display_data"
    }
   ],
   "source": [
    "x1=np.random.uniform(-10,10,5000)\n",
    "y1=np.sin(x1)/x1+np.random.uniform(-0.2,0.2,5000)\n",
    "x=np.sort(np.random.uniform(-10,10,5000))\n",
    "y=np.sin(x)/x\n",
    "plt.scatter(x1,y1,marker=\".\")\n",
    "plt.plot(x,y,color='pink')\n",
    "plt.show()"
   ]
  }
 ],
 "metadata": {
  "kernelspec": {
   "display_name": "Python 3",
   "language": "python",
   "name": "python3"
  },
  "language_info": {
   "codemirror_mode": {
    "name": "ipython",
    "version": 3
   },
   "file_extension": ".py",
   "mimetype": "text/x-python",
   "name": "python",
   "nbconvert_exporter": "python",
   "pygments_lexer": "ipython3",
   "version": "3.6.4"
  }
 },
 "nbformat": 4,
 "nbformat_minor": 2
}
