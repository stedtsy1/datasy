{
 "cells": [
  {
   "cell_type": "markdown",
   "metadata": {},
   "source": [
    "y=X β\n",
    "给定X跟y我们可以使用 NumPy 库解出β值"
   ]
  },
  {
   "cell_type": "code",
   "execution_count": 4,
   "metadata": {},
   "outputs": [],
   "source": [
    "import numpy as np\n",
    "from numpy . linalg import inv\n",
    "from numpy import dot,transpose"
   ]
  },
  {
   "cell_type": "code",
   "execution_count": 13,
   "metadata": {},
   "outputs": [],
   "source": [
    "X = [[1, 6, 2] , [1, 8, 1] , [1, 10, 0] , [1 , 14, 2] , [1, 18, 0]] \n",
    "y = [[7],[9],[13],[17.5],[18]] "
   ]
  },
  {
   "cell_type": "code",
   "execution_count": 14,
   "metadata": {},
   "outputs": [],
   "source": [
    "X = np.array(X)\n",
    "b = np.transpose(np.array(y))"
   ]
  },
  {
   "cell_type": "code",
   "execution_count": 18,
   "metadata": {},
   "outputs": [
    {
     "data": {
      "text/plain": [
       "array([[1.1875    ],\n",
       "       [1.01041667],\n",
       "       [0.39583333]])"
      ]
     },
     "execution_count": 18,
     "metadata": {},
     "output_type": "execute_result"
    }
   ],
   "source": [
    "Xt = np.transpose(X)\n",
    "XtX = np.dot(Xt,X)\n",
    "Xty = np.dot(Xt,y)\n",
    "β = np.linalg.solve(XtX,Xty)\n",
    "β"
   ]
  },
  {
   "cell_type": "markdown",
   "metadata": {},
   "source": [
    "计算给定数组中每行的最大值。\n",
    "•a = np.random.randint(1, 10, [5, 3])\n",
    "•如何在二维numpy数组的每一行中找到最大值？"
   ]
  },
  {
   "cell_type": "code",
   "execution_count": 19,
   "metadata": {},
   "outputs": [],
   "source": [
    "import numpy as np"
   ]
  },
  {
   "cell_type": "code",
   "execution_count": 25,
   "metadata": {},
   "outputs": [
    {
     "data": {
      "text/plain": [
       "array([3, 8, 4, 8, 9])"
      ]
     },
     "execution_count": 25,
     "metadata": {},
     "output_type": "execute_result"
    }
   ],
   "source": [
    "np.random.seed(20201127)\n",
    "a = np.random.randint(1, 10, [5, 3])\n",
    "y = np.amax(a, axis=1)\n",
    "y"
   ]
  },
  {
   "cell_type": "markdown",
   "metadata": {},
   "source": [
    "计算数组的元素最大值与最小值之差（极值）\n",
    "数组为：\n",
    "A=[[3,7,5],[8,4,3],[2,4,9]]"
   ]
  },
  {
   "cell_type": "code",
   "execution_count": 26,
   "metadata": {},
   "outputs": [],
   "source": [
    "import numpy as np"
   ]
  },
  {
   "cell_type": "code",
   "execution_count": 29,
   "metadata": {},
   "outputs": [
    {
     "data": {
      "text/plain": [
       "7"
      ]
     },
     "execution_count": 29,
     "metadata": {},
     "output_type": "execute_result"
    }
   ],
   "source": [
    "A=[[3,7,5],[8,4,3],[2,4,9]]\n",
    "np.random.seed(20201127)\n",
    "y=np.ptp(A)\n",
    "y"
   ]
  },
  {
   "cell_type": "markdown",
   "metadata": {},
   "source": [
    "计算s的均值，方差，标准差，协方差\n",
    "s=[9.7, 10, 10.3, 9.7,10,10.3,9.7,10,10.3]"
   ]
  },
  {
   "cell_type": "code",
   "execution_count": 36,
   "metadata": {},
   "outputs": [],
   "source": [
    "import numpy as np\n",
    "s=[9.7, 10, 10.3, 9.7,10,10.3,9.7,10,10.3]\n",
    "y=np.mean(s)#均值\n",
    "h=np.average(s)#加权平均数\n",
    "g = np.var(s)#方差\n",
    "j = np.std(s)#标准差\n",
    "k=np.cov(s)#协方差\n",
    "z = np.mean((s - np.mean(s)) ** 2) \n",
    "b = np.dot(s - np.mean(s), s - np.mean(s)) / (len(s) - 1) "
   ]
  },
  {
   "cell_type": "code",
   "execution_count": 37,
   "metadata": {},
   "outputs": [
    {
     "data": {
      "text/plain": [
       "(10.0,\n",
       " 10.0,\n",
       " 0.06000000000000029,\n",
       " 0.2449489742783184,\n",
       " array(0.0675),\n",
       " 0.06000000000000029,\n",
       " 0.06750000000000032)"
      ]
     },
     "execution_count": 37,
     "metadata": {},
     "output_type": "execute_result"
    }
   ],
   "source": [
    "y,h,g,j,k,z,b"
   ]
  },
  {
   "cell_type": "code",
   "execution_count": null,
   "metadata": {},
   "outputs": [],
   "source": []
  }
 ],
 "metadata": {
  "kernelspec": {
   "display_name": "Python 3",
   "language": "python",
   "name": "python3"
  },
  "language_info": {
   "codemirror_mode": {
    "name": "ipython",
    "version": 3
   },
   "file_extension": ".py",
   "mimetype": "text/x-python",
   "name": "python",
   "nbconvert_exporter": "python",
   "pygments_lexer": "ipython3",
   "version": "3.7.3"
  }
 },
 "nbformat": 4,
 "nbformat_minor": 2
}
