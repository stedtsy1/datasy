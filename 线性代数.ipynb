{
 "cells": [
  {
   "cell_type": "markdown",
   "metadata": {},
   "source": [
    "计算两个矩阵的乘积，如果是一维数组则是它们的内积。"
   ]
  },
  {
   "cell_type": "code",
   "execution_count": 1,
   "metadata": {},
   "outputs": [
    {
     "data": {
      "text/plain": [
       "70"
      ]
     },
     "execution_count": 1,
     "metadata": {},
     "output_type": "execute_result"
    }
   ],
   "source": [
    "import numpy as np\n",
    "x=np.array([1,2,3,4,5])\n",
    "y=np.array([2,3,4,5,6])\n",
    "z=np.dot(x,y)\n",
    "z"
   ]
  },
  {
   "cell_type": "markdown",
   "metadata": {},
   "source": [
    "#矩阵特征值与特征向量\n",
    "#numpy.linalg.eig(a) 计算方阵的特征值和特征向量。\n",
    "#numpy.linalg.eigvals(a) 计算方阵的特征值。"
   ]
  },
  {
   "cell_type": "markdown",
   "metadata": {},
   "source": [
    "求方阵的特征值特征向量"
   ]
  },
  {
   "cell_type": "code",
   "execution_count": 2,
   "metadata": {},
   "outputs": [],
   "source": [
    "import numpy as np"
   ]
  },
  {
   "cell_type": "code",
   "execution_count": 3,
   "metadata": {},
   "outputs": [],
   "source": [
    "x=np.diag((1,2,3))\n",
    "y=np.linalg.eigvals(x)\n",
    "z,s=np.linalg.eig(x)"
   ]
  },
  {
   "cell_type": "code",
   "execution_count": 4,
   "metadata": {},
   "outputs": [
    {
     "data": {
      "text/plain": [
       "(array([[1, 0, 0],\n",
       "        [0, 2, 0],\n",
       "        [0, 0, 3]]),\n",
       " array([1., 2., 3.]),\n",
       " array([1., 2., 3.]),\n",
       " array([[1., 0., 0.],\n",
       "        [0., 1., 0.],\n",
       "        [0., 0., 1.]]))"
      ]
     },
     "execution_count": 4,
     "metadata": {},
     "output_type": "execute_result"
    }
   ],
   "source": [
    "x,y,z,s"
   ]
  },
  {
   "cell_type": "code",
   "execution_count": 6,
   "metadata": {},
   "outputs": [
    {
     "name": "stdout",
     "output_type": "stream",
     "text": [
      "True\n",
      "True\n",
      "True\n"
     ]
    }
   ],
   "source": [
    "for i in range(3): \n",
    "    if np.allclose(z[i] * s[:, i], np.dot(x, s[:, i])):\n",
    "        print(True)"
   ]
  },
  {
   "cell_type": "code",
   "execution_count": 7,
   "metadata": {},
   "outputs": [
    {
     "name": "stdout",
     "output_type": "stream",
     "text": [
      "[[ 0  1  2  3]\n",
      " [ 4  5  6  7]\n",
      " [ 8  9 10 11]\n",
      " [12 13 14 15]]\n",
      "[[ 0  5 10 15]\n",
      " [ 5 10 15 20]\n",
      " [10 15 20 25]\n",
      " [15 20 25 30]]\n",
      "[ 6.74165739e+01 -7.41657387e+00  1.82694656e-15 -1.72637110e-15]\n",
      "No\n"
     ]
    }
   ],
   "source": [
    "#判断对称阵是否为正定阵\n",
    "A = np.arange(16).reshape(4, 4)\n",
    "print(A)\n",
    "A = A + A.T  # 将方阵转换成对称阵\n",
    "print(A)\n",
    "B = np.linalg.eigvals(A)  # 求A的特征值\n",
    "print(B)\n",
    "# 判断是不是所有的特征值都大于0，用到了all函数，显然对称阵A不是正定的\n",
    "if np.all(B > 0):\n",
    "    print('Yes')\n",
    "else:\n",
    "    print('No')"
   ]
  },
  {
   "cell_type": "markdown",
   "metadata": {},
   "source": [
    "练习题\n",
    "1、计算两个数组a和b之间的欧氏距离"
   ]
  },
  {
   "cell_type": "code",
   "execution_count": 8,
   "metadata": {},
   "outputs": [
    {
     "data": {
      "text/plain": [
       "6.708203932499369"
      ]
     },
     "execution_count": 8,
     "metadata": {},
     "output_type": "execute_result"
    }
   ],
   "source": [
    "import numpy as np\n",
    "a = np.array([1, 2, 3, 4, 5])\n",
    "b = np.array([4, 5, 6, 7, 8])\n",
    "d=np.linalg.norm(a - b)\n",
    "d"
   ]
  },
  {
   "cell_type": "code",
   "execution_count": 11,
   "metadata": {},
   "outputs": [
    {
     "data": {
      "text/plain": [
       "6.708203932499369"
      ]
     },
     "execution_count": 11,
     "metadata": {},
     "output_type": "execute_result"
    }
   ],
   "source": [
    "z=np.sqrt(np.sum((a-b)**2))\n",
    "z"
   ]
  },
  {
   "cell_type": "code",
   "execution_count": 13,
   "metadata": {},
   "outputs": [
    {
     "data": {
      "text/plain": [
       "(3124.999999999999, array([[ 0.2,  0. ,  0. ,  0. ,  0. ],\n",
       "        [ 0. ,  0.2,  0. ,  0. ,  0. ],\n",
       "        [ 0. ,  0. ,  0.2,  0. ,  0. ],\n",
       "        [-0. , -0. , -0. ,  0.2, -0. ],\n",
       "        [ 0. ,  0. ,  0. ,  0. ,  0.2]]))"
      ]
     },
     "execution_count": 13,
     "metadata": {},
     "output_type": "execute_result"
    }
   ],
   "source": [
    "# 2、计算矩阵的行列式和矩阵的逆\n",
    "x=np.diag([5,5,5,5,5])\n",
    "z=np.linalg.det(x)\n",
    "y=np.linalg.inv(x)\n",
    "z,y"
   ]
  },
  {
   "cell_type": "code",
   "execution_count": 14,
   "metadata": {},
   "outputs": [
    {
     "data": {
      "text/plain": [
       "array([29., 16.,  3.])"
      ]
     },
     "execution_count": 14,
     "metadata": {},
     "output_type": "execute_result"
    }
   ],
   "source": [
    "#3、给定矩阵A和数组b，求解线性方程式\n",
    "A=np.array([[1, -2, 1],[0 ,2 ,-8],[-4, 5 ,9]])\n",
    "b=np.array([0,8,-9])\n",
    "x=np.linalg.solve(A,b)\n",
    "x"
   ]
  },
  {
   "cell_type": "code",
   "execution_count": 15,
   "metadata": {},
   "outputs": [
    {
     "data": {
      "text/plain": [
       "(array([3., 6., 1.]),\n",
       " array([[-8.16496581e-01, -5.77350269e-01,  3.89855447e-17],\n",
       "        [-4.08248290e-01,  5.77350269e-01,  7.07106781e-01],\n",
       "        [ 4.08248290e-01, -5.77350269e-01,  7.07106781e-01]]))"
      ]
     },
     "execution_count": 15,
     "metadata": {},
     "output_type": "execute_result"
    }
   ],
   "source": [
    "#4、给定矩阵A[[4,-1,1],[-1,3,-2],[1,-2,3]]计算特征值和特征向量\n",
    "A=np.array([[4,-1,1],[-1,3,-2],[1,-2,3]])\n",
    "z,s=np.linalg.eig(A)\n",
    "z,s"
   ]
  },
  {
   "cell_type": "code",
   "execution_count": null,
   "metadata": {},
   "outputs": [],
   "source": []
  }
 ],
 "metadata": {
  "kernelspec": {
   "display_name": "Python 3",
   "language": "python",
   "name": "python3"
  },
  "language_info": {
   "codemirror_mode": {
    "name": "ipython",
    "version": 3
   },
   "file_extension": ".py",
   "mimetype": "text/x-python",
   "name": "python",
   "nbconvert_exporter": "python",
   "pygments_lexer": "ipython3",
   "version": "3.6.4"
  }
 },
 "nbformat": 4,
 "nbformat_minor": 2
}
